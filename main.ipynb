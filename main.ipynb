{
 "cells": [
  {
   "cell_type": "markdown",
   "metadata": {},
   "source": [
    "# Importações"
   ]
  },
  {
   "cell_type": "code",
   "execution_count": null,
   "metadata": {},
   "outputs": [],
   "source": [
    "# Biblioteca utilizada para realizar operações matriciais\n",
    "import numpy as np\n",
    "# Utilizada para inicializar os pesos e biases com números aleatórios\n",
    "import random\n",
    "# Utilizada para plotar as imagens\n",
    "import matplotlib.pyplot as plt"
   ]
  },
  {
   "cell_type": "markdown",
   "metadata": {},
   "source": [
    "# Definição da rede neural"
   ]
  },
  {
   "cell_type": "markdown",
   "metadata": {},
   "source": [
    "## funções úteis"
   ]
  },
  {
   "cell_type": "code",
   "execution_count": null,
   "metadata": {},
   "outputs": [],
   "source": [
    "# Função sigmoid\n",
    "def sigmoid(z):\n",
    "    return 1.0 / (1.0 + np.exp(-z))"
   ]
  },
  {
   "cell_type": "code",
   "execution_count": null,
   "metadata": {},
   "outputs": [],
   "source": [
    "# Derivada da função sigmoid\n",
    "def sigmoid_prime(z):\n",
    "    return sigmoid(z)*(1-sigmoid(z))"
   ]
  },
  {
   "cell_type": "code",
   "execution_count": null,
   "metadata": {},
   "outputs": [],
   "source": [
    "\"\"\"\n",
    "    @description: Recebe uma imagem (vetor) como parâmetro e realiza a impressão\n",
    "    (plotagem) na tela\n",
    "    @params: Um vetor contendo os dados da imagem 28x28\n",
    "    @return: void\n",
    "\"\"\"\n",
    "def plot_image(image):\n",
    "    image = image.reshape((28, 28))\n",
    "\n",
    "    plt.imshow(image, cmap='gray')\n",
    "    plt.axis('off')\n",
    "    plt.show()"
   ]
  },
  {
   "cell_type": "markdown",
   "metadata": {},
   "source": [
    "## definição do modelo"
   ]
  },
  {
   "cell_type": "code",
   "execution_count": null,
   "metadata": {},
   "outputs": [],
   "source": [
    "class Network(object):\n",
    "    \"\"\"\n",
    "        @description: A lista 'sizes' possui o número de neurônios na camada\n",
    "        respectiva. Por exemplo, se a lista for [2, 3, 1], então será uma rede\n",
    "        com 3 camadas, com a primeira contendo 2 neurônios, a segunda 3 e a\n",
    "        terceira apenas 1. Os biases e pesos da rede são iniciados aleatoriamente,\n",
    "        usando a distribuição gaussiana com média 0 e variância 1. Observe que a\n",
    "        primeira camada é uma camada de entrada e, por convenção, não atribuimos\n",
    "        biases a ela, considerando que os biases são usados apenas para computar\n",
    "        a saída das outras camadas à frente.\n",
    "        @params: Um N-array contendo, em cada posição (layer), o número de\n",
    "        neurônios daquela camada.\n",
    "        @return: void\n",
    "    \"\"\"\n",
    "    def __init__(self, sizes) -> None:\n",
    "        self.num_layers = len(sizes)\n",
    "        self.sizes = sizes\n",
    "        self.biases = [np.random.randn(y, 1) for y in sizes[1:]]\n",
    "        self.weights = [np.random.randn(y, x) for x, y in zip(sizes[:-1], sizes[1:])]\n",
    "    \n",
    "    \"\"\"\n",
    "        @description: O array 'image' representa a imagem do número a ser predito.\n",
    "        Esta função realiza a predição de qual algarismo representa esta imagem e\n",
    "        retorna o valor da probalidade.\n",
    "        @params: Um N-array (srqt(N) = dim da imagem) representando os pixels da\n",
    "        imagem.\n",
    "        @return: Um inteiro de 0-9 representando o valor predito e um número real\n",
    "        entre 0-1 representando a probalidade.\n",
    "    \"\"\"\n",
    "    def __call__(self, image):\n",
    "        pred = self.feedforward(image)\n",
    "\n",
    "        greater = pred[0]\n",
    "        greater_index = -1\n",
    "        index = 0\n",
    "\n",
    "        for x in pred:\n",
    "            if (x > greater):\n",
    "                greater = x\n",
    "                greater_index = index\n",
    "            \n",
    "            index += 1\n",
    "        \n",
    "        return greater_index\n",
    "\n",
    "    \"\"\"\n",
    "        @description: Retorna a saída da rede neural se 'a' é uma entrada\n",
    "        @params: um N-array representando uma entrada (N é a dimensão da entrada).\n",
    "        @return: um N-array representando as probabilidades de cada neurônio\n",
    "        da camada de saída (N é a dimensão da saída, isto é, a quantidade de \n",
    "        neurônios da última camada).\n",
    "    \"\"\"\n",
    "    def feedforward(self, a):\n",
    "        for b, w in zip(self.biases, self.weights):\n",
    "            a = sigmoid(np.dot(w, a) + b)\n",
    "        return a\n",
    "    \n",
    "    \"\"\"\n",
    "        @description: Treina a rede neural usando o gradiente estocástico mini-batch.\n",
    "        O 'training_data' é um N-array de tuplas '(x, y)' representando a entrada\n",
    "        de treino e a saída desejada. Se 'test_data' é fornecido, então a rede\n",
    "        será testada com 'test_data' a cada epoch de treino e o progresso parcial\n",
    "        será impresso. Isso é muito útil para acompanhar o progresso, mas retardará\n",
    "        substancialmente o processo.\n",
    "        @params:\n",
    "            training_data: um N-array contendo, em cada posição, um tupla '(x, y)'\n",
    "            onde x é um M-array representando a imagem para treino e y a saída\n",
    "            desejada.\n",
    "            epochs: um inteiro que representa a quantidades de epochs que o algoritmo\n",
    "            deve executar.\n",
    "            mini_batch_size: um inteiro que representa o tamanho do mini_batch.\n",
    "            eta: um número real que representa a taxa de aprendizado.\n",
    "            test_data (opcional): um N-array contendo, em cada posição, um tupla \n",
    "            '(x, y)' onde x é um M-array representando a imagem para teste e y\n",
    "            a saída desejada.\n",
    "        @return: void\n",
    "    \"\"\"\n",
    "    def SGD(self, training_data, epochs, mini_batch_size, eta, test_data=None):\n",
    "        training_data = list(training_data)\n",
    "\n",
    "        if (test_data): test_data = list(test_data)\n",
    "\n",
    "        if (test_data): n_teste = len(test_data)\n",
    "\n",
    "        n = len(training_data)\n",
    "\n",
    "        for j in range(epochs):\n",
    "            random.shuffle(training_data)\n",
    "\n",
    "            mini_batches = [\n",
    "                training_data[k:k+mini_batch_size]\n",
    "                for k in range(0, n, mini_batch_size)\n",
    "            ]\n",
    "\n",
    "            for mini_batch in mini_batches:\n",
    "                self.update_mini_batch(mini_batch, eta)\n",
    "\n",
    "            if (test_data):\n",
    "                print(\"Epoch {0}: {1}/  {2}\".format(j, self.evaluate(test_data), n_teste))\n",
    "            else:\n",
    "                print(\"Epoch {0} complete\".format(j))\n",
    "\n",
    "    \"\"\"\n",
    "        @description: Atualiza os pesos e biases da rede aplicando o gradiente\n",
    "        descendente usando backpropagation para cada mini-batch. O 'mini-batch'\n",
    "        é um N-array de tuplas '(x, y)' e 'eta' é a taxa de aprendizado.\n",
    "        @params:\n",
    "            mini_batch: um N-array de tuplas '(x, y)'.\n",
    "            eta: um número real que representa a taxa de aprendizado\n",
    "        @return:\n",
    "    \"\"\"  \n",
    "    def update_mini_batch(self, mini_batch, eta):\n",
    "        nabla_b = [np.zeros(b.shape) for b in self.biases]\n",
    "        nabla_w = [np.zeros(w.shape) for w in self.weights]\n",
    "\n",
    "        for x, y in mini_batch:\n",
    "            delta_nabla_b, delta_nabla_w = self.backprop(x, y)\n",
    "            nabla_b = [nb + dnb for nb, dnb in zip(nabla_b, delta_nabla_b)]\n",
    "            nabla_w = [nw + dnw for nw, dnw in zip(nabla_w, delta_nabla_w)]\n",
    "\n",
    "        self.weights = [w - (eta / len(mini_batch)) * nw for w, nw in zip(self.weights, nabla_w)]\n",
    "        self.biases = [b - (eta / len(mini_batch)) * nb for b, nb in zip(self.biases, nabla_b)]\n",
    "    \n",
    "    \"\"\"\n",
    "        @description: Retorna uma tupla '(nabla_b, nabla_w)' que representa o\n",
    "        gradiente para a função de custo C_x. 'nabla_b' e 'nabla_w' são, camada\n",
    "        por camada, listas de Numpy arrays, similar a self.biases e self.weights.\n",
    "        @params:\n",
    "            x: um N-array que representa uma imagem da entrada.\n",
    "            y: um inteiro que representa o valor de saída desejado.\n",
    "        @return: uma tupla '(nabla_b, nabla_w)'.\n",
    "    \"\"\"\n",
    "    def backprop(self, x, y):\n",
    "        nabla_b = [np.zeros(b.shape) for b in self.biases]\n",
    "        nabla_w = [np.zeros(w.shape) for w in self.weights]\n",
    "\n",
    "        activation = x\n",
    "        activations = [x] \n",
    "        zs = [] \n",
    "        for b, w in zip(self.biases, self.weights):\n",
    "            z = np.dot(w, activation) + b\n",
    "            zs.append(z)\n",
    "            activation = sigmoid(z)\n",
    "            activations.append(activation)\n",
    "\n",
    "        delta = self.cost_derivative(activations[-1], y) * \\\n",
    "            sigmoid_prime(zs[-1])\n",
    "        nabla_b[-1] = delta\n",
    "        nabla_w[-1] = np.dot(delta, activations[-2].transpose())\n",
    "\n",
    "        for l in range(2, self.num_layers):\n",
    "            z = zs[-l]\n",
    "            sp = sigmoid_prime(z)\n",
    "            delta = np.dot(self.weights[-l+1].transpose(), delta) * sp\n",
    "            nabla_b[-l] = delta\n",
    "            nabla_w[-l] = np.dot(delta, activations[-l-1].transpose())\n",
    "        return (nabla_b, nabla_w)\n",
    "\n",
    "    \"\"\"\n",
    "        @description: Retorna o número de entradas de teste que a rede neural\n",
    "        retornou uma saída correta. Observe que uma saída correta da rede neural\n",
    "        representa o índice de qualquer neurônio com maior ativação na camada\n",
    "        de saída.\n",
    "        @params: test_data -> um N-array de tuplas '(x, y)' onde x representa um\n",
    "        M-array da imagem e y representa o valor de saída desejado.\n",
    "        @return: Um inteiro que representa a soma de todas imagens que foram\n",
    "        preditas corretamente.\n",
    "    \"\"\"\n",
    "    def evaluate(self, test_data):\n",
    "        test_results = [(np.argmax(self.feedforward(x)), y)\n",
    "                        for (x, y) in test_data]\n",
    "        return sum(int(x == y) for (x, y) in test_results)\n",
    "\n",
    "    \"\"\"\n",
    "        @description: Retorna o vetor de derivadas parciais C_x / a das funções\n",
    "        de ativação de saída.\n",
    "        @params:\n",
    "            output_activations: Um número real representando a ativação da camada\n",
    "            de saída\n",
    "            y: um inteiro representando o valor desejado\n",
    "        @return: Um número real representando o custo\n",
    "    \"\"\"\n",
    "    def cost_derivative(self, output_activations, y):\n",
    "        return (output_activations-y)"
   ]
  },
  {
   "cell_type": "markdown",
   "metadata": {},
   "source": [
    "# Utilização"
   ]
  },
  {
   "cell_type": "markdown",
   "metadata": {},
   "source": [
    "## importações"
   ]
  },
  {
   "cell_type": "code",
   "execution_count": null,
   "metadata": {},
   "outputs": [],
   "source": [
    "import mnist_loader"
   ]
  },
  {
   "cell_type": "markdown",
   "metadata": {},
   "source": [
    "## Treinando o modelo"
   ]
  },
  {
   "cell_type": "markdown",
   "metadata": {},
   "source": [
    "Instanciando o modelo"
   ]
  },
  {
   "cell_type": "code",
   "execution_count": null,
   "metadata": {},
   "outputs": [],
   "source": [
    "model = Network([784, 30, 10])"
   ]
  },
  {
   "cell_type": "markdown",
   "metadata": {},
   "source": [
    "Importando os dados para treino"
   ]
  },
  {
   "cell_type": "code",
   "execution_count": null,
   "metadata": {},
   "outputs": [],
   "source": [
    "training_data, validation_data, test_data = mnist_loader.load_data_wrapper()"
   ]
  },
  {
   "cell_type": "markdown",
   "metadata": {},
   "source": [
    "Executando o gradiente descendente estocástico"
   ]
  },
  {
   "cell_type": "code",
   "execution_count": null,
   "metadata": {},
   "outputs": [],
   "source": [
    "model.SGD(training_data, 30, 10, 3, test_data)"
   ]
  },
  {
   "cell_type": "markdown",
   "metadata": {},
   "source": [
    "## Validando o modelo"
   ]
  },
  {
   "cell_type": "code",
   "execution_count": null,
   "metadata": {},
   "outputs": [],
   "source": [
    "training_data, validation_data, test_data = mnist_loader.load_data_wrapper()"
   ]
  },
  {
   "cell_type": "code",
   "execution_count": null,
   "metadata": {},
   "outputs": [],
   "source": [
    "first_image_vd = list(validation_data)[1200][0]"
   ]
  },
  {
   "cell_type": "code",
   "execution_count": null,
   "metadata": {},
   "outputs": [],
   "source": [
    "plot_image(first_image_vd)"
   ]
  },
  {
   "cell_type": "code",
   "execution_count": null,
   "metadata": {},
   "outputs": [],
   "source": [
    "model(first_image_vd)"
   ]
  }
 ],
 "metadata": {
  "kernelspec": {
   "display_name": "Python 3",
   "language": "python",
   "name": "python3"
  },
  "language_info": {
   "codemirror_mode": {
    "name": "ipython",
    "version": 3
   },
   "file_extension": ".py",
   "mimetype": "text/x-python",
   "name": "python",
   "nbconvert_exporter": "python",
   "pygments_lexer": "ipython3",
   "version": "3.10.12"
  }
 },
 "nbformat": 4,
 "nbformat_minor": 2
}
